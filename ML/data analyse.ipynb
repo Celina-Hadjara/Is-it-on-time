{
 "cells": [
  {
   "cell_type": "code",
   "execution_count": 5,
   "id": "3682ef19",
   "metadata": {},
   "outputs": [],
   "source": [
    "import pandas as pd\n",
    "import matplotlib.pyplot as plt\n",
    "\n",
    "# Read the CSV file into a pandas dataframe\n",
    "df = pd.read_csv(\"Datasets/DataFlightFinal.csv\", sep=',')\n"
   ]
  },
  {
   "cell_type": "code",
   "execution_count": 8,
   "outputs": [
    {
     "data": {
      "text/plain": "   Year  Quarter  Month  DayofMonth  DayOfWeek  FlightDate Reporting_Airline  \\\n0  2006        1      1          15          7  2006-01-15                US   \n1  2019        2      6          11          2  2019-06-11                9E   \n2  2018        1      2           8          4  2018-02-08                WN   \n3  2020        1      3          24          2  2020-03-24                YV   \n4  2010        3      8          20          5  2010-08-20                OO   \n\n   Flight_Number_Reporting_Airline Origin OriginCityName  ... Cancelled  \\\n0                              465    EWR     Newark, NJ  ...       0.0   \n1                             3459    ATL    Atlanta, GA  ...       0.0   \n2                             5932    MDW    Chicago, IL  ...       0.0   \n3                             5825    PHX    Phoenix, AZ  ...       0.0   \n4                             6582    BUR    Burbank, CA  ...       0.0   \n\n  Diverted Flights Distance DistanceGroup CarrierDelay  WeatherDelay  \\\n0      0.0     1.0    529.0             3          0.0           0.0   \n1      0.0     1.0    192.0             1          0.0           0.0   \n2      0.0     1.0    793.0             4          0.0           0.0   \n3      0.0     1.0    355.0             2         44.0           0.0   \n4      0.0     1.0    326.0             2          9.0           0.0   \n\n   NASDelay  SecurityDelay  LateAircraftDelay  \n0       0.0            0.0               32.0  \n1       0.0            0.0              214.0  \n2      13.0            0.0               16.0  \n3       0.0            0.0                0.0  \n4       7.0            0.0                1.0  \n\n[5 rows x 34 columns]",
      "text/html": "<div>\n<style scoped>\n    .dataframe tbody tr th:only-of-type {\n        vertical-align: middle;\n    }\n\n    .dataframe tbody tr th {\n        vertical-align: top;\n    }\n\n    .dataframe thead th {\n        text-align: right;\n    }\n</style>\n<table border=\"1\" class=\"dataframe\">\n  <thead>\n    <tr style=\"text-align: right;\">\n      <th></th>\n      <th>Year</th>\n      <th>Quarter</th>\n      <th>Month</th>\n      <th>DayofMonth</th>\n      <th>DayOfWeek</th>\n      <th>FlightDate</th>\n      <th>Reporting_Airline</th>\n      <th>Flight_Number_Reporting_Airline</th>\n      <th>Origin</th>\n      <th>OriginCityName</th>\n      <th>...</th>\n      <th>Cancelled</th>\n      <th>Diverted</th>\n      <th>Flights</th>\n      <th>Distance</th>\n      <th>DistanceGroup</th>\n      <th>CarrierDelay</th>\n      <th>WeatherDelay</th>\n      <th>NASDelay</th>\n      <th>SecurityDelay</th>\n      <th>LateAircraftDelay</th>\n    </tr>\n  </thead>\n  <tbody>\n    <tr>\n      <th>0</th>\n      <td>2006</td>\n      <td>1</td>\n      <td>1</td>\n      <td>15</td>\n      <td>7</td>\n      <td>2006-01-15</td>\n      <td>US</td>\n      <td>465</td>\n      <td>EWR</td>\n      <td>Newark, NJ</td>\n      <td>...</td>\n      <td>0.0</td>\n      <td>0.0</td>\n      <td>1.0</td>\n      <td>529.0</td>\n      <td>3</td>\n      <td>0.0</td>\n      <td>0.0</td>\n      <td>0.0</td>\n      <td>0.0</td>\n      <td>32.0</td>\n    </tr>\n    <tr>\n      <th>1</th>\n      <td>2019</td>\n      <td>2</td>\n      <td>6</td>\n      <td>11</td>\n      <td>2</td>\n      <td>2019-06-11</td>\n      <td>9E</td>\n      <td>3459</td>\n      <td>ATL</td>\n      <td>Atlanta, GA</td>\n      <td>...</td>\n      <td>0.0</td>\n      <td>0.0</td>\n      <td>1.0</td>\n      <td>192.0</td>\n      <td>1</td>\n      <td>0.0</td>\n      <td>0.0</td>\n      <td>0.0</td>\n      <td>0.0</td>\n      <td>214.0</td>\n    </tr>\n    <tr>\n      <th>2</th>\n      <td>2018</td>\n      <td>1</td>\n      <td>2</td>\n      <td>8</td>\n      <td>4</td>\n      <td>2018-02-08</td>\n      <td>WN</td>\n      <td>5932</td>\n      <td>MDW</td>\n      <td>Chicago, IL</td>\n      <td>...</td>\n      <td>0.0</td>\n      <td>0.0</td>\n      <td>1.0</td>\n      <td>793.0</td>\n      <td>4</td>\n      <td>0.0</td>\n      <td>0.0</td>\n      <td>13.0</td>\n      <td>0.0</td>\n      <td>16.0</td>\n    </tr>\n    <tr>\n      <th>3</th>\n      <td>2020</td>\n      <td>1</td>\n      <td>3</td>\n      <td>24</td>\n      <td>2</td>\n      <td>2020-03-24</td>\n      <td>YV</td>\n      <td>5825</td>\n      <td>PHX</td>\n      <td>Phoenix, AZ</td>\n      <td>...</td>\n      <td>0.0</td>\n      <td>0.0</td>\n      <td>1.0</td>\n      <td>355.0</td>\n      <td>2</td>\n      <td>44.0</td>\n      <td>0.0</td>\n      <td>0.0</td>\n      <td>0.0</td>\n      <td>0.0</td>\n    </tr>\n    <tr>\n      <th>4</th>\n      <td>2010</td>\n      <td>3</td>\n      <td>8</td>\n      <td>20</td>\n      <td>5</td>\n      <td>2010-08-20</td>\n      <td>OO</td>\n      <td>6582</td>\n      <td>BUR</td>\n      <td>Burbank, CA</td>\n      <td>...</td>\n      <td>0.0</td>\n      <td>0.0</td>\n      <td>1.0</td>\n      <td>326.0</td>\n      <td>2</td>\n      <td>9.0</td>\n      <td>0.0</td>\n      <td>7.0</td>\n      <td>0.0</td>\n      <td>1.0</td>\n    </tr>\n  </tbody>\n</table>\n<p>5 rows × 34 columns</p>\n</div>"
     },
     "execution_count": 8,
     "metadata": {},
     "output_type": "execute_result"
    }
   ],
   "source": [
    "df.head()"
   ],
   "metadata": {
    "collapsed": false
   }
  },
  {
   "cell_type": "code",
   "execution_count": 8,
   "outputs": [],
   "source": [],
   "metadata": {
    "collapsed": false
   }
  },
  {
   "cell_type": "code",
   "execution_count": 8,
   "outputs": [],
   "source": [],
   "metadata": {
    "collapsed": false
   }
  },
  {
   "cell_type": "code",
   "execution_count": null,
   "id": "bf8d95dc",
   "metadata": {
    "pycharm": {
     "is_executing": true
    }
   },
   "outputs": [],
   "source": []
  },
  {
   "cell_type": "code",
   "execution_count": null,
   "outputs": [],
   "source": [],
   "metadata": {
    "collapsed": false
   }
  }
 ],
 "metadata": {
  "kernelspec": {
   "display_name": "Python 3 (ipykernel)",
   "language": "python",
   "name": "python3"
  },
  "language_info": {
   "codemirror_mode": {
    "name": "ipython",
    "version": 3
   },
   "file_extension": ".py",
   "mimetype": "text/x-python",
   "name": "python",
   "nbconvert_exporter": "python",
   "pygments_lexer": "ipython3",
   "version": "3.10.8"
  }
 },
 "nbformat": 4,
 "nbformat_minor": 5
}
