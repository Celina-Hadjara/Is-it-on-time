{
 "cells": [
  {
   "cell_type": "markdown",
   "metadata": {},
   "source": [
    "### Importation des libs "
   ]
  },
  {
   "cell_type": "code",
   "execution_count": null,
   "metadata": {
    "ExecuteTime": {
     "end_time": "2023-04-14T11:22:55.864290Z",
     "start_time": "2023-04-14T11:22:55.854315Z"
    }
   },
   "outputs": [],
   "source": [
    "import pandas as pd\n",
    "import numpy as np\n",
    "import matplotlib.pyplot as plt"
   ]
  },
  {
   "cell_type": "markdown",
   "metadata": {},
   "source": [
    "### Chargement des données "
   ]
  },
  {
   "cell_type": "code",
   "execution_count": null,
   "metadata": {
    "ExecuteTime": {
     "end_time": "2023-04-14T11:23:20.763207Z",
     "start_time": "2023-04-14T11:22:58.627359Z"
    },
    "pycharm": {
     "is_executing": true
    }
   },
   "outputs": [],
   "source": [
    "pd.set_option('display.max_columns', None)\n",
    "pd.set_option('display.max_rows', None)\n",
    "data = pd.read_csv(\"dataFlight.csv\", encoding='ISO-8859-1', error_bad_lines=False,delimiter=',')\n",
    "data.shape"
   ]
  },
  {
   "cell_type": "markdown",
   "metadata": {},
   "source": [
    "### Nettoyage des données\n",
    "On garde que les données à partir de 2003, car dans la description de notre jeux de données les causes des retards ne sont renseignées que pour les vols de 2003 et plus."
   ]
  },
  {
   "cell_type": "code",
   "execution_count": null,
   "metadata": {},
   "outputs": [],
   "source": [
    "data=(data[data['Year']>2002])\n",
    "\n",
    "data[['SecurityDelay','CarrierDelay','WeatherDelay','NASDelay','LateAircraftDelay','DepDelayMinutes']] = data[['SecurityDelay','CarrierDelay','WeatherDelay','NASDelay','LateAircraftDelay','DepDelayMinutes']].fillna(value=0)\n",
    "pd.set_option('display.max_columns', None)\n",
    "pd.set_option('display.max_rows', None)\n",
    "data.shape"
   ]
  },
  {
   "cell_type": "markdown",
   "metadata": {},
   "source": [
    "### Affichage des données "
   ]
  },
  {
   "cell_type": "code",
   "execution_count": null,
   "metadata": {},
   "outputs": [],
   "source": [
    "data.head()"
   ]
  },
  {
   "cell_type": "markdown",
   "metadata": {},
   "source": [
    "### Choix des colonnes"
   ]
  },
  {
   "cell_type": "code",
   "execution_count": null,
   "metadata": {},
   "outputs": [],
   "source": [
    "pd.set_option('display.max_columns', None)\n",
    "pd.set_option('display.max_rows', None)\n",
    "column_list = list(data.columns)\n",
    "\n",
    "# print the list of column names\n",
    "print(len(column_list))\n",
    "print(column_list)"
   ]
  },
  {
   "cell_type": "code",
   "execution_count": 51,
   "metadata": {},
   "outputs": [
    {
     "data": {
      "text/html": [
       "<div>\n",
       "<style scoped>\n",
       "    .dataframe tbody tr th:only-of-type {\n",
       "        vertical-align: middle;\n",
       "    }\n",
       "\n",
       "    .dataframe tbody tr th {\n",
       "        vertical-align: top;\n",
       "    }\n",
       "\n",
       "    .dataframe thead th {\n",
       "        text-align: right;\n",
       "    }\n",
       "</style>\n",
       "<table border=\"1\" class=\"dataframe\">\n",
       "  <thead>\n",
       "    <tr style=\"text-align: right;\">\n",
       "      <th></th>\n",
       "      <th>Year</th>\n",
       "      <th>Quarter</th>\n",
       "      <th>Month</th>\n",
       "      <th>DayofMonth</th>\n",
       "      <th>DayOfWeek</th>\n",
       "      <th>FlightDate</th>\n",
       "      <th>Reporting_Airline</th>\n",
       "      <th>Flight_Number_Reporting_Airline</th>\n",
       "      <th>Origin</th>\n",
       "      <th>OriginCityName</th>\n",
       "      <th>OriginState</th>\n",
       "      <th>OriginStateName</th>\n",
       "      <th>Dest</th>\n",
       "      <th>DestCityName</th>\n",
       "      <th>DestState</th>\n",
       "      <th>DestStateName</th>\n",
       "      <th>DestWac</th>\n",
       "      <th>CRSDepTime</th>\n",
       "      <th>DepTime</th>\n",
       "      <th>DepDelayMinutes</th>\n",
       "      <th>CRSArrTime</th>\n",
       "      <th>ArrTime</th>\n",
       "      <th>ArrDelayMinutes</th>\n",
       "      <th>Cancelled</th>\n",
       "      <th>Diverted</th>\n",
       "      <th>Flights</th>\n",
       "      <th>Distance</th>\n",
       "      <th>DistanceGroup</th>\n",
       "      <th>CarrierDelay</th>\n",
       "      <th>WeatherDelay</th>\n",
       "      <th>NASDelay</th>\n",
       "      <th>SecurityDelay</th>\n",
       "      <th>LateAircraftDelay</th>\n",
       "    </tr>\n",
       "  </thead>\n",
       "  <tbody>\n",
       "    <tr>\n",
       "      <th>1</th>\n",
       "      <td>2009</td>\n",
       "      <td>2</td>\n",
       "      <td>5</td>\n",
       "      <td>28</td>\n",
       "      <td>4</td>\n",
       "      <td>2009-05-28</td>\n",
       "      <td>FL</td>\n",
       "      <td>671</td>\n",
       "      <td>MKE</td>\n",
       "      <td>Milwaukee, WI</td>\n",
       "      <td>WI</td>\n",
       "      <td>Wisconsin</td>\n",
       "      <td>MCO</td>\n",
       "      <td>Orlando, FL</td>\n",
       "      <td>FL</td>\n",
       "      <td>Florida</td>\n",
       "      <td>33</td>\n",
       "      <td>1204</td>\n",
       "      <td>1202.0</td>\n",
       "      <td>0.0</td>\n",
       "      <td>1541</td>\n",
       "      <td>1541.0</td>\n",
       "      <td>0.0</td>\n",
       "      <td>0.0</td>\n",
       "      <td>0.0</td>\n",
       "      <td>1.0</td>\n",
       "      <td>1066.0</td>\n",
       "      <td>5</td>\n",
       "      <td>0.0</td>\n",
       "      <td>0.0</td>\n",
       "      <td>0.0</td>\n",
       "      <td>0.0</td>\n",
       "      <td>0.0</td>\n",
       "    </tr>\n",
       "    <tr>\n",
       "      <th>2</th>\n",
       "      <td>2013</td>\n",
       "      <td>2</td>\n",
       "      <td>6</td>\n",
       "      <td>29</td>\n",
       "      <td>6</td>\n",
       "      <td>2013-06-29</td>\n",
       "      <td>MQ</td>\n",
       "      <td>3297</td>\n",
       "      <td>GJT</td>\n",
       "      <td>Grand Junction, CO</td>\n",
       "      <td>CO</td>\n",
       "      <td>Colorado</td>\n",
       "      <td>DFW</td>\n",
       "      <td>Dallas/Fort Worth, TX</td>\n",
       "      <td>TX</td>\n",
       "      <td>Texas</td>\n",
       "      <td>74</td>\n",
       "      <td>1630</td>\n",
       "      <td>1644.0</td>\n",
       "      <td>14.0</td>\n",
       "      <td>1945</td>\n",
       "      <td>1942.0</td>\n",
       "      <td>0.0</td>\n",
       "      <td>0.0</td>\n",
       "      <td>0.0</td>\n",
       "      <td>1.0</td>\n",
       "      <td>773.0</td>\n",
       "      <td>4</td>\n",
       "      <td>0.0</td>\n",
       "      <td>0.0</td>\n",
       "      <td>0.0</td>\n",
       "      <td>0.0</td>\n",
       "      <td>0.0</td>\n",
       "    </tr>\n",
       "    <tr>\n",
       "      <th>3</th>\n",
       "      <td>2010</td>\n",
       "      <td>3</td>\n",
       "      <td>8</td>\n",
       "      <td>31</td>\n",
       "      <td>2</td>\n",
       "      <td>2010-08-31</td>\n",
       "      <td>DL</td>\n",
       "      <td>1806</td>\n",
       "      <td>LAX</td>\n",
       "      <td>Los Angeles, CA</td>\n",
       "      <td>CA</td>\n",
       "      <td>California</td>\n",
       "      <td>DTW</td>\n",
       "      <td>Detroit, MI</td>\n",
       "      <td>MI</td>\n",
       "      <td>Michigan</td>\n",
       "      <td>43</td>\n",
       "      <td>1305</td>\n",
       "      <td>1305.0</td>\n",
       "      <td>0.0</td>\n",
       "      <td>2035</td>\n",
       "      <td>2015.0</td>\n",
       "      <td>0.0</td>\n",
       "      <td>0.0</td>\n",
       "      <td>0.0</td>\n",
       "      <td>1.0</td>\n",
       "      <td>1979.0</td>\n",
       "      <td>8</td>\n",
       "      <td>0.0</td>\n",
       "      <td>0.0</td>\n",
       "      <td>0.0</td>\n",
       "      <td>0.0</td>\n",
       "      <td>0.0</td>\n",
       "    </tr>\n",
       "    <tr>\n",
       "      <th>4</th>\n",
       "      <td>2006</td>\n",
       "      <td>1</td>\n",
       "      <td>1</td>\n",
       "      <td>15</td>\n",
       "      <td>7</td>\n",
       "      <td>2006-01-15</td>\n",
       "      <td>US</td>\n",
       "      <td>465</td>\n",
       "      <td>EWR</td>\n",
       "      <td>Newark, NJ</td>\n",
       "      <td>NJ</td>\n",
       "      <td>New Jersey</td>\n",
       "      <td>CLT</td>\n",
       "      <td>Charlotte, NC</td>\n",
       "      <td>NC</td>\n",
       "      <td>North Carolina</td>\n",
       "      <td>36</td>\n",
       "      <td>1820</td>\n",
       "      <td>1911.0</td>\n",
       "      <td>51.0</td>\n",
       "      <td>2026</td>\n",
       "      <td>2058.0</td>\n",
       "      <td>32.0</td>\n",
       "      <td>0.0</td>\n",
       "      <td>0.0</td>\n",
       "      <td>1.0</td>\n",
       "      <td>529.0</td>\n",
       "      <td>3</td>\n",
       "      <td>0.0</td>\n",
       "      <td>0.0</td>\n",
       "      <td>0.0</td>\n",
       "      <td>0.0</td>\n",
       "      <td>32.0</td>\n",
       "    </tr>\n",
       "    <tr>\n",
       "      <th>6</th>\n",
       "      <td>2006</td>\n",
       "      <td>3</td>\n",
       "      <td>8</td>\n",
       "      <td>7</td>\n",
       "      <td>1</td>\n",
       "      <td>2006-08-07</td>\n",
       "      <td>CO</td>\n",
       "      <td>1431</td>\n",
       "      <td>BOS</td>\n",
       "      <td>Boston, MA</td>\n",
       "      <td>MA</td>\n",
       "      <td>Massachusetts</td>\n",
       "      <td>CLE</td>\n",
       "      <td>Cleveland, OH</td>\n",
       "      <td>OH</td>\n",
       "      <td>Ohio</td>\n",
       "      <td>44</td>\n",
       "      <td>1755</td>\n",
       "      <td>1751.0</td>\n",
       "      <td>0.0</td>\n",
       "      <td>2000</td>\n",
       "      <td>2002.0</td>\n",
       "      <td>2.0</td>\n",
       "      <td>0.0</td>\n",
       "      <td>0.0</td>\n",
       "      <td>1.0</td>\n",
       "      <td>563.0</td>\n",
       "      <td>3</td>\n",
       "      <td>0.0</td>\n",
       "      <td>0.0</td>\n",
       "      <td>0.0</td>\n",
       "      <td>0.0</td>\n",
       "      <td>0.0</td>\n",
       "    </tr>\n",
       "  </tbody>\n",
       "</table>\n",
       "</div>"
      ],
      "text/plain": [
       "   Year  Quarter  Month  DayofMonth  DayOfWeek  FlightDate Reporting_Airline  \\\n",
       "1  2009        2      5          28          4  2009-05-28                FL   \n",
       "2  2013        2      6          29          6  2013-06-29                MQ   \n",
       "3  2010        3      8          31          2  2010-08-31                DL   \n",
       "4  2006        1      1          15          7  2006-01-15                US   \n",
       "6  2006        3      8           7          1  2006-08-07                CO   \n",
       "\n",
       "   Flight_Number_Reporting_Airline Origin      OriginCityName OriginState  \\\n",
       "1                              671    MKE       Milwaukee, WI          WI   \n",
       "2                             3297    GJT  Grand Junction, CO          CO   \n",
       "3                             1806    LAX     Los Angeles, CA          CA   \n",
       "4                              465    EWR          Newark, NJ          NJ   \n",
       "6                             1431    BOS          Boston, MA          MA   \n",
       "\n",
       "  OriginStateName Dest           DestCityName DestState   DestStateName  \\\n",
       "1       Wisconsin  MCO            Orlando, FL        FL         Florida   \n",
       "2        Colorado  DFW  Dallas/Fort Worth, TX        TX           Texas   \n",
       "3      California  DTW            Detroit, MI        MI        Michigan   \n",
       "4      New Jersey  CLT          Charlotte, NC        NC  North Carolina   \n",
       "6   Massachusetts  CLE          Cleveland, OH        OH            Ohio   \n",
       "\n",
       "   DestWac  CRSDepTime  DepTime  DepDelayMinutes  CRSArrTime  ArrTime  \\\n",
       "1       33        1204   1202.0              0.0        1541   1541.0   \n",
       "2       74        1630   1644.0             14.0        1945   1942.0   \n",
       "3       43        1305   1305.0              0.0        2035   2015.0   \n",
       "4       36        1820   1911.0             51.0        2026   2058.0   \n",
       "6       44        1755   1751.0              0.0        2000   2002.0   \n",
       "\n",
       "   ArrDelayMinutes  Cancelled  Diverted  Flights  Distance  DistanceGroup  \\\n",
       "1              0.0        0.0       0.0      1.0    1066.0              5   \n",
       "2              0.0        0.0       0.0      1.0     773.0              4   \n",
       "3              0.0        0.0       0.0      1.0    1979.0              8   \n",
       "4             32.0        0.0       0.0      1.0     529.0              3   \n",
       "6              2.0        0.0       0.0      1.0     563.0              3   \n",
       "\n",
       "   CarrierDelay  WeatherDelay  NASDelay  SecurityDelay  LateAircraftDelay  \n",
       "1           0.0           0.0       0.0            0.0                0.0  \n",
       "2           0.0           0.0       0.0            0.0                0.0  \n",
       "3           0.0           0.0       0.0            0.0                0.0  \n",
       "4           0.0           0.0       0.0            0.0               32.0  \n",
       "6           0.0           0.0       0.0            0.0                0.0  "
      ]
     },
     "execution_count": 51,
     "metadata": {},
     "output_type": "execute_result"
    }
   ],
   "source": [
    "df = data.loc[:, ['Year','Quarter','Month', 'DayofMonth', 'DayOfWeek', 'FlightDate', 'Reporting_Airline', 'Flight_Number_Reporting_Airline',\n",
    "'Origin', 'OriginCityName', 'OriginState', 'OriginStateName', 'Dest', 'DestCityName', 'DestState', 'DestStateName', 'DestWac',\n",
    "'CRSDepTime', 'DepTime', 'DepDelayMinutes', 'CRSArrTime', 'ArrTime', 'ArrDelayMinutes', 'Cancelled',\n",
    "'Diverted', 'Flights', 'Distance', 'DistanceGroup', 'CarrierDelay', 'WeatherDelay', 'NASDelay', 'SecurityDelay', 'LateAircraftDelay']]\n",
    "df.head()"
   ]
  },
  {
   "cell_type": "markdown",
   "metadata": {},
   "source": [
    "### Analyses des données"
   ]
  },
  {
   "cell_type": "code",
   "execution_count": 85,
   "metadata": {},
   "outputs": [
    {
     "name": "stdout",
     "output_type": "stream",
     "text": [
      "Statistiques de DepDelayMinutes :\n",
      "Nombre de valeurs non nulles : 1164841\n",
      "Moyenne : 11.58\n",
      "Écart type : 35.18\n",
      "Valeur minimale : 0\n",
      "Premier quartile (Q1) : 0.00\n",
      "Médiane (deuxième quartile) : 0.00\n",
      "Troisième quartile (Q3) : 7.00\n",
      "Valeur maximale : 1878\n"
     ]
    }
   ],
   "source": [
    "df_filtered = df[(df[\"DepDelayMinutes\"] >= 0)]\n",
    "stats = df_filtered[\"DepDelayMinutes\"].describe()\n",
    "\n",
    "print(\"Statistiques de DepDelayMinutes :\")\n",
    "print(f\"Nombre de valeurs non nulles : {stats['count']:.0f}\")\n",
    "print(f\"Moyenne : {stats['mean']:.2f}\")\n",
    "print(f\"Écart type : {stats['std']:.2f}\")\n",
    "print(f\"Valeur minimale : {stats['min']:.0f}\")\n",
    "print(f\"Premier quartile (Q1) : {stats['25%']:.2f}\")\n",
    "print(f\"Médiane (deuxième quartile) : {stats['50%']:.2f}\")\n",
    "print(f\"Troisième quartile (Q3) : {stats['75%']:.2f}\")\n",
    "print(f\"Valeur maximale : {stats['max']:.0f}\")"
   ]
  },
  {
   "cell_type": "code",
   "execution_count": 86,
   "metadata": {},
   "outputs": [
    {
     "data": {
      "image/png": "[encoded data removed]",
      "text/plain": [
       "<Figure size 1200x600 with 2 Axes>"
      ]
     },
     "metadata": {},
     "output_type": "display_data"
    }
   ],
   "source": [
    "# Création d'un diagramme à moustaches (box plot)\n",
    "plt.figure(figsize=(12, 6))\n",
    "plt.subplot(1, 2, 1)\n",
    "plt.boxplot(df_filtered[\"DepDelayMinutes\"].dropna(), vert=False)\n",
    "plt.xlabel(\"DepDelayMinutes\")\n",
    "plt.title(\"Diagramme à moustaches de DepDelayMinutes\")\n",
    "\n",
    "# Création d'un histogramme\n",
    "plt.subplot(1, 2, 2)\n",
    "plt.hist(df_filtered[\"DepDelayMinutes\"].dropna(), bins=50)\n",
    "plt.xlabel(\"DepDelayMinutes\")\n",
    "plt.ylabel(\"Fréquence\")\n",
    "plt.title(\"Histogramme de DepDelayMinutes\")\n",
    "\n",
    "# Affichage des graphiques\n",
    "plt.show()"
   ]
  },
  {
   "cell_type": "code",
   "execution_count": null,
   "metadata": {},
   "outputs": [],
   "source": [
    "df_filtered = df[(df[\"ArrDelayMinutes\"] >= 0)]\n",
    "stats = df_filtered[\"ArrDelayMinutes\"].describe()\n",
    "\n",
    "print(\"Statistiques de ArrDelayMinutes :\")\n",
    "print(f\"Nombre de valeurs non nulles : {stats['count']:.0f}\")\n",
    "print(f\"Moyenne : {stats['mean']:.2f}\")\n",
    "print(f\"Écart type : {stats['std']:.2f}\")\n",
    "print(f\"Valeur minimale : {stats['min']:.0f}\")\n",
    "print(f\"Premier quartile (Q1) : {stats['25%']:.2f}\")\n",
    "print(f\"Médiane (deuxième quartile) : {stats['50%']:.2f}\")\n",
    "print(f\"Troisième quartile (Q3) : {stats['75%']:.2f}\")\n",
    "print(f\"Valeur maximale : {stats['max']:.0f}\")"
   ]
  },
  {
   "cell_type": "code",
   "execution_count": null,
   "metadata": {},
   "outputs": [],
   "source": [
    "# Création d'un diagramme à moustaches (box plot)\n",
    "plt.figure(figsize=(12, 6))\n",
    "plt.subplot(1, 2, 1)\n",
    "plt.boxplot(df_filtered[\"ArrDelayMinutes\"].dropna(), vert=False)\n",
    "plt.xlabel(\"ArrDelayMinutes\")\n",
    "plt.title(\"Diagramme à moustaches de ArrDelayMinutes\")\n",
    "\n",
    "# Création d'un histogramme\n",
    "plt.subplot(1, 2, 2)\n",
    "plt.hist(df_filtered[\"ArrDelayMinutes\"].dropna(), bins=50)\n",
    "plt.xlabel(\"ArrDelayMinutes\")\n",
    "plt.ylabel(\"Fréquence\")\n",
    "plt.title(\"Histogramme de ArrDelayMinutes\")\n",
    "\n",
    "# Affichage des graphiques\n",
    "plt.show()"
   ]
  },
  {
   "cell_type": "code",
   "execution_count": null,
   "metadata": {},
   "outputs": [],
   "source": [
    "from scipy import stats\n",
    "\n",
    "def grubbs_test(data, alpha=0.05):\n",
    "    n = len(data)\n",
    "    mean = np.mean(data)\n",
    "    std_dev = np.std(data, ddof=1)\n",
    "    abs_diffs = np.abs(data - mean)\n",
    "    max_abs_diff = np.max(abs_diffs)\n",
    "    max_index = np.argmax(abs_diffs)\n",
    "    \n",
    "    G_calculated = max_abs_diff / std_dev\n",
    "    t = stats.t.ppf(1 - alpha / (2 * n), n - 2)\n",
    "    G_critical = ((n - 1) * np.sqrt(np.square(t))) / (np.sqrt(n) * np.sqrt(n - 2 + np.square(t)))\n",
    "    \n",
    "    if G_calculated > G_critical:\n",
    "        print(f\"Valeur aberrante détectée : {data[max_index]}\")\n",
    "        data = np.delete(data, max_index)\n",
    "    else:\n",
    "        print(\"Aucune valeur aberrante détectée\")\n",
    "    \n",
    "    return data\n",
    "\n",
    "# Exemple d'utilisation\n",
    "data = np.array(df_filtered[\"DepDelayMinutes\"])\n",
    "data_without_outliers = grubbs_test(data)"
   ]
  },
  {
   "cell_type": "markdown",
   "metadata": {},
   "source": [
    "### Nettoyage des valeurs abbérantes\n",
    "On n'a remarqué que le temps de retard varie concédérablement sur quelques vols et il peut atteindre jusqu'à plus de 31 alors que le 3ème quartile est à 37 minutes. Donc, on a utilisé la transformation pour supprimer ces valeurs abérantes."
   ]
  },
  {
   "cell_type": "code",
   "execution_count": null,
   "metadata": {},
   "outputs": [],
   "source": [
    "def drop_outliers(df, columns, quantile_min=0.01, quantile_max=0.99, verbose=False):\n",
    "    df_copy = df.copy()\n",
    "    total = 0\n",
    "    quantiles = df_copy.quantile((quantile_min, quantile_max))\n",
    "\n",
    "    for c in columns:\n",
    "        to_drop = np.where(np.logical_or(df_copy[c] < quantiles[c][quantile_min],\n",
    "                                         df_copy[c] > quantiles[c][quantile_max]))[0]\n",
    "\n",
    "        if verbose:\n",
    "            print(f\"Dropped {len(to_drop)} lines for column {c}.\")\n",
    "\n",
    "        total += len(to_drop)\n",
    "        df_copy.drop(index=to_drop, inplace=True)\n",
    "        df_copy.reset_index(inplace=True, drop=True)\n",
    "\n",
    "    if verbose:\n",
    "        print(f\"Total dropped lines : {total}\")\n",
    "\n",
    "    return df_copy\n",
    "\n",
    "col = {'DepDelayMinutes','ArrDelayMinutes'}\n",
    "df = drop_outliers(df, col, verbose=True)"
   ]
  },
  {
   "cell_type": "code",
   "execution_count": null,
   "metadata": {},
   "outputs": [],
   "source": [
    "#df.to_csv('DataFlightFinal.csv', index=False)"
   ]
  }
 ],
 "metadata": {
  "kernelspec": {
   "display_name": "Python 3 (ipykernel)",
   "language": "python",
   "name": "python3"
  },
  "language_info": {
   "codemirror_mode": {
    "name": "ipython",
    "version": 3
   },
   "file_extension": ".py",
   "mimetype": "text/x-python",
   "name": "python",
   "nbconvert_exporter": "python",
   "pygments_lexer": "ipython3",
   "version": "3.10.8"
  },
  "vscode": {
   "interpreter": {
    "hash": "369f2c481f4da34e4445cda3fffd2e751bd1c4d706f27375911949ba6bb62e1c"
   }
  }
 },
 "nbformat": 4,
 "nbformat_minor": 2
}
